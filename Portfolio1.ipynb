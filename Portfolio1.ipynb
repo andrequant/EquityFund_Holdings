{
 "cells": [
  {
   "cell_type": "code",
   "execution_count": 1,
   "metadata": {},
   "outputs": [],
   "source": [
    "#### Descobrir o portfolio ###"
   ]
  },
  {
   "cell_type": "code",
   "execution_count": 6,
   "metadata": {},
   "outputs": [],
   "source": [
    "import investpy\n",
    "import numpy as np\n",
    "import pandas as pd\n",
    "import matplotlib.pyplot as plt"
   ]
  },
  {
   "cell_type": "code",
   "execution_count": 7,
   "metadata": {},
   "outputs": [],
   "source": [
    "## Ativos e Periodos\n",
    "\n",
    "ativos = ['ITUB4', 'PETR4', 'BBDC4', 'ABEV3', 'MGLU3', 'WEGE3', 'BBAS3', \\\n",
    "        'VALE3', 'LAME4', 'VVAR3', 'BBDC3', 'BPAC11', 'BBSE3', 'ELET6']\n",
    "\n",
    "fromdate = '01/01/2020'\n",
    "todate = '01/08/2022'"
   ]
  },
  {
   "cell_type": "code",
   "execution_count": 8,
   "metadata": {},
   "outputs": [],
   "source": [
    "## Baixa os ativos para um DF\n",
    "df_precos = pd.DataFrame()\n",
    "\n",
    "for acao in ativos:\n",
    "    \n",
    "    try:\n",
    "        p = pd.Series(investpy.get_stock_historical_data(stock=acao,\n",
    "                   country='brazil',\n",
    "                   from_date= fromdate,\n",
    "                   to_date= todate)['Close'],name=acao)\n",
    "    \n",
    "        df_precos = pd.concat([df_precos,p], axis = 1)\n",
    "    except:\n",
    "        pass\n",
    "\n",
    "df_precos.dropna(how='any', inplace=True)"
   ]
  },
  {
   "cell_type": "code",
   "execution_count": 14,
   "metadata": {},
   "outputs": [],
   "source": []
  },
  {
   "cell_type": "code",
   "execution_count": null,
   "metadata": {},
   "outputs": [],
   "source": [
    "### Cria um portfolio aleatório\n",
    "\n",
    "def gera_porfolio(ativos, duracao, seed = 0):\n",
    "\n",
    "    if seed"
   ]
  },
  {
   "cell_type": "code",
   "execution_count": null,
   "metadata": {},
   "outputs": [],
   "source": []
  }
 ],
 "metadata": {
  "interpreter": {
   "hash": "0ec66bbe782f389edb8615b95e71913b48001538f92dc4d53a6c71a0eff16772"
  },
  "kernelspec": {
   "display_name": "Python 3.9.5 64-bit",
   "language": "python",
   "name": "python3"
  },
  "language_info": {
   "codemirror_mode": {
    "name": "ipython",
    "version": 3
   },
   "file_extension": ".py",
   "mimetype": "text/x-python",
   "name": "python",
   "nbconvert_exporter": "python",
   "pygments_lexer": "ipython3",
   "version": "3.9.5"
  },
  "orig_nbformat": 4
 },
 "nbformat": 4,
 "nbformat_minor": 2
}
